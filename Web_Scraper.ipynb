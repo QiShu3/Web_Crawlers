{
 "cells": [
  {
   "cell_type": "code",
   "execution_count": null,
   "metadata": {},
   "outputs": [],
   "source": [
    "# -*- coding: UTF-8 -*-\n",
    "import os\n",
    "import time\n",
    "import pandas as pd\n",
    "import requests \n",
    "from bs4 import BeautifulSoup \n",
    "from openpyxl import Workbook\n"
   ]
  },
  {
   "cell_type": "code",
   "execution_count": null,
   "metadata": {},
   "outputs": [],
   "source": [
    "# 创建Excel文件 \n",
    "wb = Workbook()\n",
    "ws = wb.active"
   ]
  },
  {
   "cell_type": "code",
   "execution_count": null,
   "metadata": {},
   "outputs": [],
   "source": [
    "# 爬取地址\n",
    "url = f'https://q.10jqka.com.cn/thshy/'"
   ]
  },
  {
   "cell_type": "code",
   "execution_count": null,
   "metadata": {},
   "outputs": [],
   "source": [
    "# 请求Header\n",
    "header = {'user-agent': 'Mozilla/5.0 (Windows NT 10.0; Win64; x64) AppleWebKit/537.36 (KHTML, like Gecko) '\n",
    "                        'Chrome/112.0.0.0 Safari/537.36',\n",
    "          'cookie': '__yjs_duid=1_b1ac9fc87dce4de5552d7cf0924fb4981686228951567; u=b0281776fd75d3eefeb3562b2a5e6534; '\n",
    "                    '__bid_n=1889b14047a51b2b754207; '\n",
    "                    'FPTOKEN=qU+ieOMqkW6y6DlsOZ+D/T'\n",
    "                    '+SCY6yS3dYvGXKibFoGBijKuUuSbc3ACFDzjlcC18wuDjNLENrw4ktAFAqnl3Akg492Lr4fbvNrkdJ'\n",
    "                    '/ZQrluIdklkNDAKYnPrpcbe2H9y7AtX+/b+FCTkSTNv5+qB3OtQQ3BXXsEen72oEoAfK+H6'\n",
    "                    '/u6ltZPdyHttJBJiXEDDS3EiUVt+S2w+8ozXENWbNt/AHeCgNUMmdeDinAKCR+nQSGK/twOoTLOU/nxBeSAazg'\n",
    "                    '+wu5K8ooRmW00Bk6XAqC4Cb829XR3UinZHRsJxt7q9biKzYQh'\n",
    "                    '+Yu5s6EHypKwpA6RPtVAC1axxbxza0l5LJ5hX8IxJXDaQ6srFoEzQ92jM0rmDynp+gT'\n",
    "                    '+3qNfEtB2PjkURvmRghGUn8wOcUUKPOqg==|mfg5DyAulnBuIm/fNO5JCrEm9g5yXrV1etiaV0jqQEw=|10'\n",
    "                    '|dcfdbf664758c47995de31b90def5ca5; PHPSESSID=18397defd82b1b3ef009662dc77fe210; '\n",
    "                    'Hm_lvt_de3f6fd28ec4ac19170f18e2a8777593=1686322028,1686360205; '\n",
    "                    'history=cid%3A2455%2Ccid%3A2476%2Ccid%3A5474%2Ccid%3A5475%2Ccid%3A2814%2Cbid%3A3667; '\n",
    "                    'Hm_lpvt_de3f6fd28ec4ac19170f18e2a8777593=1686360427'}\n"
   ]
  },
  {
   "cell_type": "code",
   "execution_count": null,
   "metadata": {},
   "outputs": [],
   "source": [
    "response = requests.get(url,headers=header)"
   ]
  },
  {
   "cell_type": "code",
   "execution_count": null,
   "metadata": {},
   "outputs": [],
   "source": [
    "#稍作片刻\n",
    "time.sleep(0.01)"
   ]
  },
  {
   "cell_type": "code",
   "execution_count": null,
   "metadata": {},
   "outputs": [],
   "source": [
    "# 获取网页信息# \n",
    "soup = BeautifulSoup(response.content, 'lxml')\n",
    "soup = BeautifulSoup(response.content, 'html.parser')\n",
    "print(soup)\n"
   ]
  },
  {
   "cell_type": "code",
   "execution_count": 17,
   "metadata": {},
   "outputs": [
    {
     "name": "stdout",
     "output_type": "stream",
     "text": [
      "[<a href=\"http://q.10jqka.com.cn/thshy/detail/code/881121/\" target=\"_blank\">半导体及元件</a>, <a href=\"http://q.10jqka.com.cn/thshy/detail/code/881131/\" target=\"_blank\">白色家电</a>, <a href=\"http://q.10jqka.com.cn/thshy/detail/code/881156/\" target=\"_blank\">保险及其他</a>, <a href=\"http://q.10jqka.com.cn/thshy/detail/code/881138/\" target=\"_blank\">包装印刷</a>, <a href=\"http://q.10jqka.com.cn/thshy/detail/code/881164/\" target=\"_blank\">传媒</a>, <a href=\"http://q.10jqka.com.cn/thshy/detail/code/881174/\" target=\"_blank\">厨卫电器</a>, <a href=\"http://q.10jqka.com.cn/thshy/detail/code/881145/\" target=\"_blank\">电力</a>, <a href=\"http://q.10jqka.com.cn/thshy/detail/code/881120/\" target=\"_blank\">电力设备</a>, <a href=\"http://q.10jqka.com.cn/thshy/detail/code/881172/\" target=\"_blank\">电子化学品</a>, <a href=\"http://q.10jqka.com.cn/thshy/detail/code/881176/\" target=\"_blank\">房地产服务</a>, <a href=\"http://q.10jqka.com.cn/thshy/detail/code/881153/\" target=\"_blank\">房地产开发</a>, <a href=\"http://q.10jqka.com.cn/thshy/detail/code/881167/\" target=\"_blank\">非金属材料</a>, <a href=\"http://q.10jqka.com.cn/thshy/detail/code/881127/\" target=\"_blank\">非汽车交运</a>, <a href=\"http://q.10jqka.com.cn/thshy/detail/code/881136/\" target=\"_blank\">服装家纺</a>, <a href=\"http://q.10jqka.com.cn/thshy/detail/code/881135/\" target=\"_blank\">纺织制造</a>, <a href=\"http://q.10jqka.com.cn/thshy/detail/code/881166/\" target=\"_blank\">国防军工</a>, <a href=\"http://q.10jqka.com.cn/thshy/detail/code/881169/\" target=\"_blank\">贵金属</a>, <a href=\"http://q.10jqka.com.cn/thshy/detail/code/881148/\" target=\"_blank\">港口航运</a>, <a href=\"http://q.10jqka.com.cn/thshy/detail/code/881149/\" target=\"_blank\">公路铁路运输</a>, <a href=\"http://q.10jqka.com.cn/thshy/detail/code/881112/\" target=\"_blank\">钢铁</a>, <a href=\"http://q.10jqka.com.cn/thshy/detail/code/881122/\" target=\"_blank\">光学光电子</a>, <a href=\"http://q.10jqka.com.cn/thshy/detail/code/881168/\" target=\"_blank\">工业金属</a>, <a href=\"http://q.10jqka.com.cn/thshy/detail/code/881181/\" target=\"_blank\">环保</a>, <a href=\"http://q.10jqka.com.cn/thshy/detail/code/881110/\" target=\"_blank\">化工合成材料</a>, <a href=\"http://q.10jqka.com.cn/thshy/detail/code/881177/\" target=\"_blank\">互联网电商</a>, <a href=\"http://q.10jqka.com.cn/thshy/detail/code/881132/\" target=\"_blank\">黑色家电</a>, <a href=\"http://q.10jqka.com.cn/thshy/detail/code/881108/\" target=\"_blank\">化学原料</a>, <a href=\"http://q.10jqka.com.cn/thshy/detail/code/881109/\" target=\"_blank\">化学制品</a>, <a href=\"http://q.10jqka.com.cn/thshy/detail/code/881140/\" target=\"_blank\">化学制药</a>, <a href=\"http://q.10jqka.com.cn/thshy/detail/code/881151/\" target=\"_blank\">机场航运</a>, <a href=\"http://q.10jqka.com.cn/thshy/detail/code/881161/\" target=\"_blank\">酒店及餐饮</a>, <a href=\"http://q.10jqka.com.cn/thshy/detail/code/881160/\" target=\"_blank\">景点及旅游</a>, <a href=\"http://q.10jqka.com.cn/thshy/detail/code/881130/\" target=\"_blank\">计算机设备</a>, <a href=\"http://q.10jqka.com.cn/thshy/detail/code/881163/\" target=\"_blank\">计算机应用</a>, <a href=\"http://q.10jqka.com.cn/thshy/detail/code/881114/\" target=\"_blank\">金属新材料</a>, <a href=\"http://q.10jqka.com.cn/thshy/detail/code/881178/\" target=\"_blank\">教育</a>, <a href=\"http://q.10jqka.com.cn/thshy/detail/code/881139/\" target=\"_blank\">家用轻工</a>, <a href=\"http://q.10jqka.com.cn/thshy/detail/code/881115/\" target=\"_blank\">建筑材料</a>, <a href=\"http://q.10jqka.com.cn/thshy/detail/code/881116/\" target=\"_blank\">建筑装饰</a>, <a href=\"http://q.10jqka.com.cn/thshy/detail/code/881158/\" target=\"_blank\">零售</a>, <a href=\"http://q.10jqka.com.cn/thshy/detail/code/881182/\" target=\"_blank\">美容护理</a>, <a href=\"http://q.10jqka.com.cn/thshy/detail/code/881105/\" target=\"_blank\">煤炭开采加工</a>, <a href=\"http://q.10jqka.com.cn/thshy/detail/code/881159/\" target=\"_blank\">贸易</a>, <a href=\"http://q.10jqka.com.cn/thshy/detail/code/881103/\" target=\"_blank\">农产品加工</a>, <a href=\"http://q.10jqka.com.cn/thshy/detail/code/881104/\" target=\"_blank\">农业服务</a>, <a href=\"http://q.10jqka.com.cn/thshy/detail/code/881128/\" target=\"_blank\">汽车服务</a>, <a href=\"http://q.10jqka.com.cn/thshy/detail/code/881126/\" target=\"_blank\">汽车零部件</a>, <a href=\"http://q.10jqka.com.cn/thshy/detail/code/881125/\" target=\"_blank\">汽车整车</a>, <a href=\"http://q.10jqka.com.cn/thshy/detail/code/881123/\" target=\"_blank\">其他电子</a>, <a href=\"http://q.10jqka.com.cn/thshy/detail/code/881179/\" target=\"_blank\">其他社会服务</a>, <a href=\"http://q.10jqka.com.cn/thshy/detail/code/881146/\" target=\"_blank\">燃气</a>, <a href=\"http://q.10jqka.com.cn/thshy/detail/code/881134/\" target=\"_blank\">食品加工制造</a>, <a href=\"http://q.10jqka.com.cn/thshy/detail/code/881142/\" target=\"_blank\">生物制品</a>, <a href=\"http://q.10jqka.com.cn/thshy/detail/code/881180/\" target=\"_blank\">石油加工贸易</a>, <a href=\"http://q.10jqka.com.cn/thshy/detail/code/881162/\" target=\"_blank\">通信服务</a>, <a href=\"http://q.10jqka.com.cn/thshy/detail/code/881129/\" target=\"_blank\">通信设备</a>, <a href=\"http://q.10jqka.com.cn/thshy/detail/code/881117/\" target=\"_blank\">通用设备</a>, <a href=\"http://q.10jqka.com.cn/thshy/detail/code/881152/\" target=\"_blank\">物流</a>, <a href=\"http://q.10jqka.com.cn/thshy/detail/code/881124/\" target=\"_blank\">消费电子</a>, <a href=\"http://q.10jqka.com.cn/thshy/detail/code/881173/\" target=\"_blank\">小家电</a>, <a href=\"http://q.10jqka.com.cn/thshy/detail/code/881170/\" target=\"_blank\">小金属</a>, <a href=\"http://q.10jqka.com.cn/thshy/detail/code/881175/\" target=\"_blank\">医疗服务</a>, <a href=\"http://q.10jqka.com.cn/thshy/detail/code/881144/\" target=\"_blank\">医疗器械</a>, <a href=\"http://q.10jqka.com.cn/thshy/detail/code/881133/\" target=\"_blank\">饮料制造</a>, <a href=\"http://q.10jqka.com.cn/thshy/detail/code/881107/\" target=\"_blank\">油气开采及服务</a>, <a href=\"http://q.10jqka.com.cn/thshy/detail/code/881119/\" target=\"_blank\">仪器仪表</a>, <a href=\"http://q.10jqka.com.cn/thshy/detail/code/881155/\" target=\"_blank\">银行</a>, <a href=\"http://q.10jqka.com.cn/thshy/detail/code/881143/\" target=\"_blank\">医药商业</a>, <a href=\"http://q.10jqka.com.cn/thshy/detail/code/881102/\" target=\"_blank\">养殖业</a>, <a href=\"http://q.10jqka.com.cn/thshy/detail/code/881171/\" target=\"_blank\">自动化设备</a>, <a href=\"http://q.10jqka.com.cn/thshy/detail/code/881165/\" target=\"_blank\">综合</a>, <a href=\"http://q.10jqka.com.cn/thshy/detail/code/881157/\" target=\"_blank\">证券</a>, <a href=\"http://q.10jqka.com.cn/thshy/detail/code/881141/\" target=\"_blank\">中药</a>, <a href=\"http://q.10jqka.com.cn/thshy/detail/code/881118/\" target=\"_blank\">专用设备</a>, <a href=\"http://q.10jqka.com.cn/thshy/detail/code/881137/\" target=\"_blank\">造纸</a>, <a href=\"http://q.10jqka.com.cn/thshy/detail/code/881101/\" target=\"_blank\">种植业与林业</a>]\n",
      "Empty DataFrame\n",
      "Columns: [Code, href]\n",
      "Index: []\n",
      "      Code                                              href\n",
      "0   半导体及元件  http://q.10jqka.com.cn/thshy/detail/code/881121/\n",
      "1     白色家电  http://q.10jqka.com.cn/thshy/detail/code/881131/\n",
      "2    保险及其他  http://q.10jqka.com.cn/thshy/detail/code/881156/\n",
      "3     包装印刷  http://q.10jqka.com.cn/thshy/detail/code/881138/\n",
      "4       传媒  http://q.10jqka.com.cn/thshy/detail/code/881164/\n",
      "..     ...                                               ...\n",
      "71      证券  http://q.10jqka.com.cn/thshy/detail/code/881157/\n",
      "72      中药  http://q.10jqka.com.cn/thshy/detail/code/881141/\n",
      "73    专用设备  http://q.10jqka.com.cn/thshy/detail/code/881118/\n",
      "74      造纸  http://q.10jqka.com.cn/thshy/detail/code/881137/\n",
      "75  种植业与林业  http://q.10jqka.com.cn/thshy/detail/code/881101/\n",
      "\n",
      "[76 rows x 2 columns]\n"
     ]
    }
   ],
   "source": [
    "#打印\n",
    "df = pd.DataFrame(columns =['Code','href'])\n",
    "civ = soup.find('div',class_=\"cate_inner visible\")\n",
    "a_tags = civ.find_all('a')\n",
    "print(a_tags)\n",
    "print(df)\n",
    "for link in a_tags:\n",
    "    href = link.get('href')\n",
    "    code = link.get_text()\n",
    "    new_row = {'Code': code, 'href': href}\n",
    "    df.loc[len(df)] = new_row\n",
    "print(df)"
   ]
  },
  {
   "cell_type": "code",
   "execution_count": 18,
   "metadata": {},
   "outputs": [
    {
     "name": "stdout",
     "output_type": "stream",
     "text": [
      "CSV文件已成功导出\n"
     ]
    }
   ],
   "source": [
    "# 将数据框导出为CSV文件\n",
    "df.to_csv('output.csv', index=False)\n",
    "\n",
    "print(\"CSV文件已成功导出\")"
   ]
  },
  {
   "cell_type": "code",
   "execution_count": null,
   "metadata": {},
   "outputs": [],
   "source": []
  }
 ],
 "metadata": {
  "kernelspec": {
   "display_name": "Python 3",
   "language": "python",
   "name": "python3"
  },
  "language_info": {
   "codemirror_mode": {
    "name": "ipython",
    "version": 3
   },
   "file_extension": ".py",
   "mimetype": "text/x-python",
   "name": "python",
   "nbconvert_exporter": "python",
   "pygments_lexer": "ipython3",
   "version": "3.12.2"
  }
 },
 "nbformat": 4,
 "nbformat_minor": 2
}
